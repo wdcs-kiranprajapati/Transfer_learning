{
  "nbformat": 4,
  "nbformat_minor": 0,
  "metadata": {
    "colab": {
      "private_outputs": true,
      "provenance": [],
      "gpuType": "T4"
    },
    "kernelspec": {
      "name": "python3",
      "display_name": "Python 3"
    },
    "language_info": {
      "name": "python"
    },
    "accelerator": "GPU"
  },
  "cells": [
    {
      "cell_type": "code",
      "execution_count": null,
      "metadata": {
        "id": "MpCTETyN_knr"
      },
      "outputs": [],
      "source": [
        "!git clone https://github.com/ultralytics/yolov5"
      ]
    },
    {
      "cell_type": "code",
      "source": [
        "%cd  /content/yolov5"
      ],
      "metadata": {
        "id": "0S_gCpFm_pdT"
      },
      "execution_count": null,
      "outputs": []
    },
    {
      "cell_type": "code",
      "source": [
        "!pip install -r requirements.txt"
      ],
      "metadata": {
        "id": "Zh3zczt6_sTC"
      },
      "execution_count": null,
      "outputs": []
    },
    {
      "cell_type": "code",
      "source": [
        "!pip install ultralytics"
      ],
      "metadata": {
        "id": "1hgzK2Rj_vKa"
      },
      "execution_count": null,
      "outputs": []
    },
    {
      "cell_type": "code",
      "source": [
        "!chmod +x train.py"
      ],
      "metadata": {
        "id": "EGBgAMnI_wyb"
      },
      "execution_count": null,
      "outputs": []
    },
    {
      "cell_type": "code",
      "source": [
        "from ultralytics import YOLO\n",
        "model = YOLO('yolov5x6u.pt')\n",
        "\n",
        "model.model.nc, model.info()"
      ],
      "metadata": {
        "id": "XlSVMzYw_yQi"
      },
      "execution_count": null,
      "outputs": []
    },
    {
      "cell_type": "code",
      "source": [
        "def freeze_layers(model, num_freeze):\n",
        "    print(f\"Freezing {num_freeze} layers\")\n",
        "    freeze = [f'model.{x}.' for x in range(num_freeze)]\n",
        "    for k, v in model.model.named_parameters():\n",
        "        v.requires_grad = True  # Enable training for all layers initially\n",
        "        if any(x in k for x in freeze):\n",
        "            print(f'Freezing layer: {k}')\n",
        "            v.requires_grad = False  # Freeze the backbone layers\n",
        "\n",
        "# Freeze the first 10 layers (usually the backbone layers)\n",
        "freeze_layers(model, num_freeze=10)"
      ],
      "metadata": {
        "id": "9vleq4Lr_1wi"
      },
      "execution_count": null,
      "outputs": []
    },
    {
      "cell_type": "code",
      "source": [
        "batch_size = 16\n",
        "epochs = 30\n",
        "learning_rate = 0.001"
      ],
      "metadata": {
        "id": "BC58gG-Q_4Az"
      },
      "execution_count": null,
      "outputs": []
    },
    {
      "cell_type": "code",
      "source": [
        "!pip install roboflow\n",
        "\n",
        "from roboflow import Roboflow\n",
        "rf = Roboflow(api_key=\"mmUfdJ0p2CzLuX1Kjk2b\")\n",
        "project = rf.workspace(\"ayush-nndar\").project(\"fire_aug1\")\n",
        "version = project.version(1)\n",
        "dataset = version.download(\"yolov5\")\n"
      ],
      "metadata": {
        "id": "MY9SRk6P_6ES"
      },
      "execution_count": null,
      "outputs": []
    },
    {
      "cell_type": "code",
      "source": [
        "from IPython.core.magic import register_line_cell_magic\n",
        "\n",
        "@register_line_cell_magic\n",
        "def writetemplate(line, cell):\n",
        "    with open(line, 'w') as f:\n",
        "        f.write(cell.format(**globals()))"
      ],
      "metadata": {
        "id": "v5JC-z92_8Fq"
      },
      "execution_count": null,
      "outputs": []
    },
    {
      "cell_type": "code",
      "source": [
        "%%writetemplate /kaggle/working/yolov5/fire_aug1-1/data.yaml\n",
        "\n",
        "# roboflow:\n",
        "#   license: CC BY 4.0\n",
        "#   project: fire_aug1\n",
        "#   url: https://universe.roboflow.com/ayush-nndar/fire_aug1/dataset/1\n",
        "#   version: 1\n",
        "#   workspace: ayush-nndar\n",
        "\n",
        "names: [\n",
        "    \"person\", \"bicycle\", \"car\", \"motorcycle\", \"airplane\", \"bus\", \"train\", \"truck\", \"boat\", \"traffic light\",\n",
        "    \"fire hydrant\", \"stop sign\", \"parking meter\", \"bench\", \"bird\", \"cat\", \"dog\", \"horse\", \"sheep\", \"cow\",\n",
        "    \"elephant\", \"bear\", \"zebra\", \"giraffe\", \"backpack\", \"umbrella\", \"handbag\", \"tie\", \"suitcase\", \"frisbee\",\n",
        "    \"skis\", \"snowboard\", \"sports ball\", \"kite\", \"baseball bat\", \"baseball glove\", \"skateboard\", \"surfboard\",\n",
        "    \"tennis racket\", \"bottle\", \"wine glass\", \"cup\", \"fork\", \"knife\", \"spoon\", \"bowl\", \"banana\", \"apple\",\n",
        "    \"sandwich\", \"orange\", \"broccoli\", \"carrot\", \"hot dog\", \"pizza\", \"donut\", \"cake\", \"chair\", \"couch\",\n",
        "    \"potted plant\", \"bed\", \"dining table\", \"toilet\", \"TV\", \"laptop\", \"mouse\", \"remote\", \"keyboard\", \"cell phone\",\n",
        "    \"microwave\", \"oven\", \"toaster\", \"sink\", \"refrigerator\", \"book\", \"clock\", \"vase\", \"scissors\", \"teddy bear\",\n",
        "    \"hair drier\", \"toothbrush\", \"fire\"\n",
        "]\n",
        "\n",
        "nc: 81 # number of classes\n",
        "\n",
        "test: /kaggle/working/yolov5/fire_aug1-1/test/images\n",
        "train: /kaggle/working/yolov5/fire_aug1-1/train/images\n",
        "val: /kaggle/working/yolov5/fire_aug1-1/valid/images\n"
      ],
      "metadata": {
        "id": "cciW8XTC_9cS"
      },
      "execution_count": null,
      "outputs": []
    },
    {
      "cell_type": "code",
      "source": [
        "!cat /kaggle/working/yolov5/fire_aug1-1/data.yaml"
      ],
      "metadata": {
        "id": "05SVjVUV__Ai"
      },
      "execution_count": null,
      "outputs": []
    },
    {
      "cell_type": "code",
      "source": [
        "%%writetemplate /kaggle/working/yolov5/models/yolov5x.yaml\n",
        "# Ultralytics YOLOv5 🚀, AGPL-3.0 license\n",
        "\n",
        "# Parameters\n",
        "nc: 81 # number of classes\n",
        "depth_multiple: 1.33 # model depth multiple\n",
        "width_multiple: 1.25 # layer channel multiple\n",
        "anchors:\n",
        "  - [10, 13, 16, 30, 33, 23] # P3/8\n",
        "  - [30, 61, 62, 45, 59, 119] # P4/16\n",
        "  - [116, 90, 156, 198, 373, 326] # P5/32\n",
        "\n",
        "\n",
        "# YOLOv5 v6.0 backbone\n",
        "backbone:\n",
        "  # [from, number, module, args]\n",
        "  [\n",
        "    [-1, 1, Conv, [64, 6, 2, 2]], # 0-P1/2\n",
        "    [-1, 1, Conv, [128, 3, 2]], # 1-P2/4\n",
        "    [-1, 3, C3, [128]],\n",
        "    [-1, 1, Conv, [256, 3, 2]], # 3-P3/8\n",
        "    [-1, 6, C3, [256]],\n",
        "    [-1, 1, Conv, [512, 3, 2]], # 5-P4/16\n",
        "    [-1, 9, C3, [512]],\n",
        "    [-1, 1, Conv, [1024, 3, 2]], # 7-P5/32\n",
        "    [-1, 3, C3, [1024]],\n",
        "    [-1, 1, SPPF, [1024, 5]], # 9\n",
        "  ]\n",
        "\n",
        "# YOLOv5 v6.0 head\n",
        "head: [\n",
        "    [-1, 1, Conv, [512, 1, 1]],\n",
        "    [-1, 1, nn.Upsample, [None, 2, \"nearest\"]],\n",
        "    [[-1, 6], 1, Concat, [1]], # cat backbone P4\n",
        "    [-1, 3, C3, [512, False]], # 13\n",
        "\n",
        "    [-1, 1, Conv, [256, 1, 1]],\n",
        "    [-1, 1, nn.Upsample, [None, 2, \"nearest\"]],\n",
        "    [[-1, 4], 1, Concat, [1]], # cat backbone P3\n",
        "    [-1, 3, C3, [256, False]], # 17 (P3/8-small)\n",
        "\n",
        "    [-1, 1, Conv, [256, 3, 2]],\n",
        "    [[-1, 14], 1, Concat, [1]], # cat head P4\n",
        "    [-1, 3, C3, [512, False]], # 20 (P4/16-medium)\n",
        "\n",
        "    [-1, 1, Conv, [512, 3, 2]],\n",
        "    [[-1, 10], 1, Concat, [1]], # cat head P5\n",
        "    [-1, 3, C3, [1024, False]], # 23 (P5/32-large)\n",
        "\n",
        "    [[17, 20, 23], 1, Detect, [nc, anchors]], # Detect(P3, P4, P5)\n",
        "  ]\n"
      ],
      "metadata": {
        "id": "GnxJIHJXAAxh"
      },
      "execution_count": null,
      "outputs": []
    },
    {
      "cell_type": "code",
      "source": [
        "!cat /kaggle/working/yolov5/models/yolov5x.yaml"
      ],
      "metadata": {
        "id": "Gw5K1ScBACTa"
      },
      "execution_count": null,
      "outputs": []
    },
    {
      "cell_type": "code",
      "source": [
        "file_path = \"/kaggle/working/yolov5/train.py\"\n",
        "\n",
        "# Read the content of the file\n",
        "with open(file_path, 'r') as file:\n",
        "    file_content = file.read()\n",
        "\n",
        "# Replace the deprecated function call\n",
        "updated_content = file_content.replace(\n",
        "    \"torch.cuda.amp.autocast(amp)\",\n",
        "    \"torch.amp.autocast('cuda', dtype=torch.float16 if amp else torch.float32)\"\n",
        ")\n",
        "\n",
        "# Write the updated content back to the file\n",
        "with open(file_path, 'w') as file:\n",
        "    file.write(updated_content)\n",
        "\n",
        "print(\"File updated successfully.\")"
      ],
      "metadata": {
        "id": "h_mxY2UXAEBZ"
      },
      "execution_count": null,
      "outputs": []
    },
    {
      "cell_type": "code",
      "source": [
        "!cat train.py | grep \"torch.amp.autocast\""
      ],
      "metadata": {
        "id": "Q741iyX0AGgJ"
      },
      "execution_count": null,
      "outputs": []
    },
    {
      "cell_type": "code",
      "source": [
        "!python train.py --batch {batch_size} --img 416 --epochs {epochs} --data fire_aug1-1/data.yaml --weights yolov5x6u.pt --cfg models/yolov5x.yaml"
      ],
      "metadata": {
        "id": "_pICehLcAH5M"
      },
      "execution_count": null,
      "outputs": []
    },
    {
      "cell_type": "code",
      "source": [],
      "metadata": {
        "id": "rSuF92hXA4Qa"
      },
      "execution_count": null,
      "outputs": []
    }
  ]
}